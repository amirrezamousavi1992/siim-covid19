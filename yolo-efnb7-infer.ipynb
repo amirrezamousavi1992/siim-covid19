{
 "cells": [
  {
   "cell_type": "code",
   "execution_count": 1,
   "id": "interested-invite",
   "metadata": {
    "_cell_guid": "b1076dfc-b9ad-4769-8c92-a6c4dae69d19",
    "_uuid": "8f2839f25d086af736a60e9eeb907d3b93b6e0e5",
    "execution": {
     "iopub.execute_input": "2021-07-23T18:13:19.834253Z",
     "iopub.status.busy": "2021-07-23T18:13:19.833617Z",
     "iopub.status.idle": "2021-07-23T18:14:29.084674Z",
     "shell.execute_reply": "2021-07-23T18:14:29.083522Z",
     "shell.execute_reply.started": "2021-07-23T17:51:04.737228Z"
    },
    "papermill": {
     "duration": 69.289026,
     "end_time": "2021-07-23T18:14:29.084836",
     "exception": false,
     "start_time": "2021-07-23T18:13:19.795810",
     "status": "completed"
    },
    "tags": []
   },
   "outputs": [
    {
     "name": "stdout",
     "output_type": "stream",
     "text": [
      "\r\n",
      "Downloading and Extracting Packages\r\n",
      "######################################################################## | 100% \r\n",
      "Preparing transaction: - \b\bdone\r\n",
      "Verifying transaction: | \b\bdone\r\n",
      "Executing transaction: - \b\b\\ \b\bdone\r\n",
      "\r\n",
      "Downloading and Extracting Packages\r\n",
      "######################################################################## | 100% \r\n",
      "Preparing transaction: - \b\bdone\r\n",
      "Verifying transaction: | \b\bdone\r\n",
      "Executing transaction: - \b\b\\ \b\b| \b\bdone\r\n",
      "\r\n",
      "Downloading and Extracting Packages\r\n",
      "######################################################################## | 100% \r\n",
      "Preparing transaction: - \b\bdone\r\n",
      "Verifying transaction: | \b\bdone\r\n",
      "Executing transaction: - \b\bdone\r\n",
      "\r\n",
      "Downloading and Extracting Packages\r\n",
      "######################################################################## | 100% \r\n",
      "Preparing transaction: - \b\bdone\r\n",
      "Verifying transaction: | \b\bdone\r\n",
      "Executing transaction: - \b\b\\ \b\b| \b\b/ \b\b- \b\b\\ \b\b| \b\b/ \b\b- \b\b\\ \b\b| \b\b/ \b\b- \b\b\\ \b\b| \b\b/ \b\b- \b\b\\ \b\b| \b\b/ \b\bdone\r\n",
      "\r\n",
      "Downloading and Extracting Packages\r\n",
      "######################################################################## | 100% \r\n",
      "Preparing transaction: - \b\bdone\r\n",
      "Verifying transaction: | \b\bdone\r\n",
      "Executing transaction: - \b\b\\ \b\bdone\r\n",
      "\r\n",
      "Downloading and Extracting Packages\r\n",
      "######################################################################## | 100% \r\n",
      "Preparing transaction: - \b\bdone\r\n",
      "Verifying transaction: | \b\bdone\r\n",
      "Executing transaction: - \b\b\\ \b\b| \b\b/ \b\b- \b\b\\ \b\b| \b\bdone\r\n"
     ]
    }
   ],
   "source": [
    "!conda install '/kaggle/input/pydicom-conda-helper/libjpeg-turbo-2.1.0-h7f98852_0.tar.bz2' -c conda-forge -y\n",
    "!conda install '/kaggle/input/pydicom-conda-helper/libgcc-ng-9.3.0-h2828fa1_19.tar.bz2' -c conda-forge -y\n",
    "!conda install '/kaggle/input/pydicom-conda-helper/gdcm-2.8.9-py37h500ead1_1.tar.bz2' -c conda-forge -y\n",
    "!conda install '/kaggle/input/pydicom-conda-helper/conda-4.10.1-py37h89c1867_0.tar.bz2' -c conda-forge -y\n",
    "!conda install '/kaggle/input/pydicom-conda-helper/certifi-2020.12.5-py37h89c1867_1.tar.bz2' -c conda-forge -y\n",
    "!conda install '/kaggle/input/pydicom-conda-helper/openssl-1.1.1k-h7f98852_0.tar.bz2' -c conda-forge -y"
   ]
  },
  {
   "cell_type": "code",
   "execution_count": 2,
   "id": "simplified-serum",
   "metadata": {
    "execution": {
     "iopub.execute_input": "2021-07-23T18:14:29.165329Z",
     "iopub.status.busy": "2021-07-23T18:14:29.164625Z",
     "iopub.status.idle": "2021-07-23T18:14:29.188114Z",
     "shell.execute_reply": "2021-07-23T18:14:29.187709Z",
     "shell.execute_reply.started": "2021-07-23T17:52:16.209137Z"
    },
    "papermill": {
     "duration": 0.066233,
     "end_time": "2021-07-23T18:14:29.188256",
     "exception": false,
     "start_time": "2021-07-23T18:14:29.122023",
     "status": "completed"
    },
    "tags": []
   },
   "outputs": [],
   "source": [
    "import os\n",
    "import random\n",
    "from PIL import Image\n",
    "import pandas as pd\n",
    "from tqdm.auto import tqdm\n",
    "df=pd.read_csv('/kaggle/input/siim-covid19-detection/sample_submission.csv')\n",
    "\n",
    "if df.shape[0]==2477:\n",
    "    fast_sub=True\n",
    "    fast_df=pd.DataFrame(([['00086460a852_study', 'negative 1 0 0 1 1'], \n",
    "                         ['000c9c05fd14_study', 'negative 1 0 0 1 1'], \n",
    "                         ['65761e66de9f_image', 'none 1 0 0 1 1'], \n",
    "                         ['51759b5579bc_image', 'none 1 0 0 1 1']]), \n",
    "                       columns=['id', 'PredictionString'])\n",
    "else:\n",
    "    fast_sub=False\n",
    "    "
   ]
  },
  {
   "cell_type": "code",
   "execution_count": 3,
   "id": "official-server",
   "metadata": {
    "execution": {
     "iopub.execute_input": "2021-07-23T18:14:29.279236Z",
     "iopub.status.busy": "2021-07-23T18:14:29.278558Z",
     "iopub.status.idle": "2021-07-23T18:14:29.282220Z",
     "shell.execute_reply": "2021-07-23T18:14:29.282620Z"
    },
    "papermill": {
     "duration": 0.057706,
     "end_time": "2021-07-23T18:14:29.282759",
     "exception": false,
     "start_time": "2021-07-23T18:14:29.225053",
     "status": "completed"
    },
    "tags": []
   },
   "outputs": [
    {
     "data": {
      "text/plain": [
       "0       negative 1 0 0 1 1\n",
       "1       negative 1 0 0 1 1\n",
       "2       negative 1 0 0 1 1\n",
       "3       negative 1 0 0 1 1\n",
       "4       negative 1 0 0 1 1\n",
       "               ...        \n",
       "2472        none 1 0 0 1 1\n",
       "2473        none 1 0 0 1 1\n",
       "2474        none 1 0 0 1 1\n",
       "2475        none 1 0 0 1 1\n",
       "2476        none 1 0 0 1 1\n",
       "Name: PredictionString, Length: 2477, dtype: object"
      ]
     },
     "execution_count": 3,
     "metadata": {},
     "output_type": "execute_result"
    }
   ],
   "source": [
    "df['PredictionString']"
   ]
  },
  {
   "cell_type": "code",
   "execution_count": 4,
   "id": "meaning-interference",
   "metadata": {
    "execution": {
     "iopub.execute_input": "2021-07-23T18:14:29.365511Z",
     "iopub.status.busy": "2021-07-23T18:14:29.364840Z",
     "iopub.status.idle": "2021-07-23T18:14:29.372172Z",
     "shell.execute_reply": "2021-07-23T18:14:29.371749Z"
    },
    "papermill": {
     "duration": 0.052772,
     "end_time": "2021-07-23T18:14:29.372289",
     "exception": false,
     "start_time": "2021-07-23T18:14:29.319517",
     "status": "completed"
    },
    "tags": []
   },
   "outputs": [
    {
     "data": {
      "text/html": [
       "<div>\n",
       "<style scoped>\n",
       "    .dataframe tbody tr th:only-of-type {\n",
       "        vertical-align: middle;\n",
       "    }\n",
       "\n",
       "    .dataframe tbody tr th {\n",
       "        vertical-align: top;\n",
       "    }\n",
       "\n",
       "    .dataframe thead th {\n",
       "        text-align: right;\n",
       "    }\n",
       "</style>\n",
       "<table border=\"1\" class=\"dataframe\">\n",
       "  <thead>\n",
       "    <tr style=\"text-align: right;\">\n",
       "      <th></th>\n",
       "      <th>id</th>\n",
       "      <th>PredictionString</th>\n",
       "    </tr>\n",
       "  </thead>\n",
       "  <tbody>\n",
       "    <tr>\n",
       "      <th>0</th>\n",
       "      <td>00086460a852_study</td>\n",
       "      <td>negative 1 0 0 1 1</td>\n",
       "    </tr>\n",
       "    <tr>\n",
       "      <th>1</th>\n",
       "      <td>000c9c05fd14_study</td>\n",
       "      <td>negative 1 0 0 1 1</td>\n",
       "    </tr>\n",
       "    <tr>\n",
       "      <th>2</th>\n",
       "      <td>65761e66de9f_image</td>\n",
       "      <td>none 1 0 0 1 1</td>\n",
       "    </tr>\n",
       "    <tr>\n",
       "      <th>3</th>\n",
       "      <td>51759b5579bc_image</td>\n",
       "      <td>none 1 0 0 1 1</td>\n",
       "    </tr>\n",
       "  </tbody>\n",
       "</table>\n",
       "</div>"
      ],
      "text/plain": [
       "                   id    PredictionString\n",
       "0  00086460a852_study  negative 1 0 0 1 1\n",
       "1  000c9c05fd14_study  negative 1 0 0 1 1\n",
       "2  65761e66de9f_image      none 1 0 0 1 1\n",
       "3  51759b5579bc_image      none 1 0 0 1 1"
      ]
     },
     "execution_count": 4,
     "metadata": {},
     "output_type": "execute_result"
    }
   ],
   "source": [
    "fast_df"
   ]
  },
  {
   "cell_type": "markdown",
   "id": "fantastic-leave",
   "metadata": {
    "papermill": {
     "duration": 0.036984,
     "end_time": "2021-07-23T18:14:29.446974",
     "exception": false,
     "start_time": "2021-07-23T18:14:29.409990",
     "status": "completed"
    },
    "tags": []
   },
   "source": [
    "**.DCM To .PNG**"
   ]
  },
  {
   "cell_type": "code",
   "execution_count": 5,
   "id": "effective-hierarchy",
   "metadata": {
    "execution": {
     "iopub.execute_input": "2021-07-23T18:14:29.529605Z",
     "iopub.status.busy": "2021-07-23T18:14:29.528818Z",
     "iopub.status.idle": "2021-07-23T18:14:29.693003Z",
     "shell.execute_reply": "2021-07-23T18:14:29.692503Z",
     "shell.execute_reply.started": "2021-07-23T17:52:16.240453Z"
    },
    "papermill": {
     "duration": 0.208409,
     "end_time": "2021-07-23T18:14:29.693126",
     "exception": false,
     "start_time": "2021-07-23T18:14:29.484717",
     "status": "completed"
    },
    "tags": []
   },
   "outputs": [],
   "source": [
    "import numpy as np\n",
    "import pydicom\n",
    "from pydicom.pixel_data_handlers.util import apply_voi_lut\n",
    "\n",
    "def read_xray(path, voi_lut = True, fix_monochrome = True):\n",
    "    # Original from: https://www.kaggle.com/raddar/convert-dicom-to-np-array-the-correct-way\n",
    "    dicom = pydicom.read_file(path)\n",
    "    \n",
    "    # VOI LUT (if available by DICOM device) is used to transform raw DICOM data to \n",
    "    # \"human-friendly\" view\n",
    "    if voi_lut:\n",
    "        data = apply_voi_lut(dicom.pixel_array, dicom)\n",
    "    else:\n",
    "        data = dicom.pixel_array\n",
    "               \n",
    "    # depending on this value, X-ray may look inverted - fix that:\n",
    "    if fix_monochrome and dicom.PhotometricInterpretation == \"MONOCHROME1\":\n",
    "        data = np.amax(data) - data\n",
    "        \n",
    "    data = data - np.min(data)\n",
    "    data = data / np.max(data)\n",
    "    data = (data * 255).astype(np.uint8)\n",
    "        \n",
    "    return data\n",
    "def resize(array, size, keep_ratio=False, resample=Image.LANCZOS):\n",
    "    # Original from: https://www.kaggle.com/xhlulu/vinbigdata-process-and-resize-to-image\n",
    "    im = Image.fromarray(array)\n",
    "    \n",
    "    if keep_ratio:\n",
    "        im.thumbnail((size, size), resample)\n",
    "    else:\n",
    "        im = im.resize((size, size), resample)\n",
    "    \n",
    "    return im"
   ]
  },
  {
   "cell_type": "code",
   "execution_count": 6,
   "id": "nutritional-merchandise",
   "metadata": {
    "execution": {
     "iopub.execute_input": "2021-07-23T18:14:29.775449Z",
     "iopub.status.busy": "2021-07-23T18:14:29.774866Z",
     "iopub.status.idle": "2021-07-23T18:14:30.977862Z",
     "shell.execute_reply": "2021-07-23T18:14:30.976999Z",
     "shell.execute_reply.started": "2021-07-23T17:52:16.489334Z"
    },
    "papermill": {
     "duration": 1.247653,
     "end_time": "2021-07-23T18:14:30.977997",
     "exception": false,
     "start_time": "2021-07-23T18:14:29.730344",
     "status": "completed"
    },
    "tags": []
   },
   "outputs": [],
   "source": [
    "split = 'test'\n",
    "save_dir = f'/kaggle/tmp/{split}/'\n",
    "\n",
    "os.makedirs(save_dir, exist_ok=True)\n",
    "\n",
    "save_dir = f'/kaggle/tmp/{split}/study/'\n",
    "os.makedirs(save_dir, exist_ok=True)\n",
    "if fast_sub:\n",
    "    xray = read_xray('/kaggle/input/siim-covid19-detection/train/00086460a852/9e8302230c91/65761e66de9f.dcm')\n",
    "    im = resize(xray, size=600)  \n",
    "    study = '00086460a852' + '_study.png'\n",
    "    im.save(os.path.join(save_dir, study))\n",
    "    xray = read_xray('/kaggle/input/siim-covid19-detection/train/000c9c05fd14/e555410bd2cd/51759b5579bc.dcm')\n",
    "    im = resize(xray, size=600)  \n",
    "    study = '000c9c05fd14' + '_study.png'\n",
    "    im.save(os.path.join(save_dir, study))\n",
    "else:   \n",
    "    for dirname, _, filenames in tqdm(os.walk(f'/kaggle/input/siim-covid19-detection/{split}')):\n",
    "        for file in filenames:\n",
    "            # set keep_ratio=True to have original aspect ratio\n",
    "            xray = read_xray(os.path.join(dirname, file))\n",
    "            im = resize(xray, size=600)  \n",
    "            study = dirname.split('/')[-2] + '_study.png'\n",
    "            im.save(os.path.join(save_dir, study))"
   ]
  },
  {
   "cell_type": "code",
   "execution_count": 7,
   "id": "frequent-support",
   "metadata": {
    "execution": {
     "iopub.execute_input": "2021-07-23T18:14:31.064521Z",
     "iopub.status.busy": "2021-07-23T18:14:31.061754Z",
     "iopub.status.idle": "2021-07-23T18:14:31.433734Z",
     "shell.execute_reply": "2021-07-23T18:14:31.432979Z",
     "shell.execute_reply.started": "2021-07-23T17:52:17.219355Z"
    },
    "papermill": {
     "duration": 0.418305,
     "end_time": "2021-07-23T18:14:31.433865",
     "exception": false,
     "start_time": "2021-07-23T18:14:31.015560",
     "status": "completed"
    },
    "tags": []
   },
   "outputs": [],
   "source": [
    "image_id = []\n",
    "dim0 = []\n",
    "dim1 = []\n",
    "splits = []\n",
    "save_dir = f'/kaggle/tmp/{split}/image/'\n",
    "os.makedirs(save_dir, exist_ok=True)\n",
    "if fast_sub:\n",
    "    xray = read_xray('/kaggle/input/siim-covid19-detection/train/00086460a852/9e8302230c91/65761e66de9f.dcm')\n",
    "    im = resize(xray, size=512)  \n",
    "    im.save(os.path.join(save_dir,'65761e66de9f_image.png'))\n",
    "    image_id.append('65761e66de9f.dcm'.replace('.dcm', ''))\n",
    "    dim0.append(xray.shape[0])\n",
    "    dim1.append(xray.shape[1])\n",
    "    splits.append(split)\n",
    "    xray = read_xray('/kaggle/input/siim-covid19-detection/train/000c9c05fd14/e555410bd2cd/51759b5579bc.dcm')\n",
    "    im = resize(xray, size=512)  \n",
    "    im.save(os.path.join(save_dir, '51759b5579bc_image.png'))\n",
    "    image_id.append('51759b5579bc.dcm'.replace('.dcm', ''))\n",
    "    dim0.append(xray.shape[0])\n",
    "    dim1.append(xray.shape[1])\n",
    "    splits.append(split)\n",
    "else:\n",
    "    for dirname, _, filenames in tqdm(os.walk(f'/kaggle/input/siim-covid19-detection/{split}')):\n",
    "        for file in filenames:\n",
    "            # set keep_ratio=True to have original aspect ratio\n",
    "            xray = read_xray(os.path.join(dirname, file))\n",
    "            im = resize(xray, size=512)  \n",
    "            im.save(os.path.join(save_dir, file.replace('.dcm', '_image.png')))\n",
    "            image_id.append(file.replace('.dcm', ''))\n",
    "            dim0.append(xray.shape[0])\n",
    "            dim1.append(xray.shape[1])\n",
    "            splits.append(split)\n",
    "meta = pd.DataFrame.from_dict({'image_id': image_id, 'dim0': dim0, 'dim1': dim1, 'split': splits})\n"
   ]
  },
  {
   "cell_type": "code",
   "execution_count": 8,
   "id": "liable-offense",
   "metadata": {
    "execution": {
     "iopub.execute_input": "2021-07-23T18:14:31.518926Z",
     "iopub.status.busy": "2021-07-23T18:14:31.518211Z",
     "iopub.status.idle": "2021-07-23T18:14:31.521681Z",
     "shell.execute_reply": "2021-07-23T18:14:31.522086Z"
    },
    "papermill": {
     "duration": 0.050624,
     "end_time": "2021-07-23T18:14:31.522232",
     "exception": false,
     "start_time": "2021-07-23T18:14:31.471608",
     "status": "completed"
    },
    "tags": []
   },
   "outputs": [
    {
     "data": {
      "text/html": [
       "<div>\n",
       "<style scoped>\n",
       "    .dataframe tbody tr th:only-of-type {\n",
       "        vertical-align: middle;\n",
       "    }\n",
       "\n",
       "    .dataframe tbody tr th {\n",
       "        vertical-align: top;\n",
       "    }\n",
       "\n",
       "    .dataframe thead th {\n",
       "        text-align: right;\n",
       "    }\n",
       "</style>\n",
       "<table border=\"1\" class=\"dataframe\">\n",
       "  <thead>\n",
       "    <tr style=\"text-align: right;\">\n",
       "      <th></th>\n",
       "      <th>image_id</th>\n",
       "      <th>dim0</th>\n",
       "      <th>dim1</th>\n",
       "      <th>split</th>\n",
       "    </tr>\n",
       "  </thead>\n",
       "  <tbody>\n",
       "    <tr>\n",
       "      <th>0</th>\n",
       "      <td>65761e66de9f</td>\n",
       "      <td>2330</td>\n",
       "      <td>2783</td>\n",
       "      <td>test</td>\n",
       "    </tr>\n",
       "    <tr>\n",
       "      <th>1</th>\n",
       "      <td>51759b5579bc</td>\n",
       "      <td>3093</td>\n",
       "      <td>2850</td>\n",
       "      <td>test</td>\n",
       "    </tr>\n",
       "  </tbody>\n",
       "</table>\n",
       "</div>"
      ],
      "text/plain": [
       "       image_id  dim0  dim1 split\n",
       "0  65761e66de9f  2330  2783  test\n",
       "1  51759b5579bc  3093  2850  test"
      ]
     },
     "execution_count": 8,
     "metadata": {},
     "output_type": "execute_result"
    }
   ],
   "source": [
    "meta"
   ]
  },
  {
   "cell_type": "markdown",
   "id": "amazing-diversity",
   "metadata": {
    "papermill": {
     "duration": 0.037532,
     "end_time": "2021-07-23T18:14:31.596995",
     "exception": false,
     "start_time": "2021-07-23T18:14:31.559463",
     "status": "completed"
    },
    "tags": []
   },
   "source": [
    "# **Study Predict**"
   ]
  },
  {
   "cell_type": "code",
   "execution_count": 9,
   "id": "alternate-edward",
   "metadata": {
    "execution": {
     "iopub.execute_input": "2021-07-23T18:14:31.680388Z",
     "iopub.status.busy": "2021-07-23T18:14:31.679721Z",
     "iopub.status.idle": "2021-07-23T18:14:31.683136Z",
     "shell.execute_reply": "2021-07-23T18:14:31.683527Z",
     "shell.execute_reply.started": "2021-07-23T17:52:17.607253Z"
    },
    "papermill": {
     "duration": 0.049061,
     "end_time": "2021-07-23T18:14:31.683659",
     "exception": false,
     "start_time": "2021-07-23T18:14:31.634598",
     "status": "completed"
    },
    "tags": []
   },
   "outputs": [],
   "source": [
    "import numpy as np\n",
    "if fast_sub:\n",
    "    df = fast_df.copy()\n",
    "else:\n",
    "    df=pd.read_csv('/kaggle/input/siim-covid19-detection/sample_submission.csv')\n",
    "    \n",
    "id_laststr_list  = []\n",
    "for i in range(df.shape[0]):\n",
    "    id_laststr_list.append(df.loc[i,'id'][-1])\n",
    "df['id_last_str']=id_laststr_list\n",
    "study_len = df[df['id_last_str'] == 'y'].shape[0]"
   ]
  },
  {
   "cell_type": "code",
   "execution_count": 10,
   "id": "trained-variance",
   "metadata": {
    "execution": {
     "iopub.execute_input": "2021-07-23T18:14:31.762640Z",
     "iopub.status.busy": "2021-07-23T18:14:31.761939Z",
     "iopub.status.idle": "2021-07-23T18:14:31.764944Z",
     "shell.execute_reply": "2021-07-23T18:14:31.765332Z"
    },
    "papermill": {
     "duration": 0.044477,
     "end_time": "2021-07-23T18:14:31.765472",
     "exception": false,
     "start_time": "2021-07-23T18:14:31.720995",
     "status": "completed"
    },
    "tags": []
   },
   "outputs": [
    {
     "data": {
      "text/plain": [
       "2"
      ]
     },
     "execution_count": 10,
     "metadata": {},
     "output_type": "execute_result"
    }
   ],
   "source": [
    "study_len"
   ]
  },
  {
   "cell_type": "code",
   "execution_count": 11,
   "id": "fifteen-accused",
   "metadata": {
    "execution": {
     "iopub.execute_input": "2021-07-23T18:14:31.879611Z",
     "iopub.status.busy": "2021-07-23T18:14:31.858915Z",
     "iopub.status.idle": "2021-07-23T18:17:30.609713Z",
     "shell.execute_reply": "2021-07-23T18:17:30.609269Z",
     "shell.execute_reply.started": "2021-07-23T17:52:17.624370Z"
    },
    "papermill": {
     "duration": 178.806592,
     "end_time": "2021-07-23T18:17:30.609846",
     "exception": false,
     "start_time": "2021-07-23T18:14:31.803254",
     "status": "completed"
    },
    "tags": []
   },
   "outputs": [
    {
     "name": "stdout",
     "output_type": "stream",
     "text": [
      "Running on 1 replicas\n",
      "1/1 [==============================] - 7s 7s/step\n",
      "1/1 [==============================] - 4s 4s/step\n",
      "1/1 [==============================] - 5s 5s/step\n",
      "1/1 [==============================] - 4s 4s/step\n",
      "1/1 [==============================] - 4s 4s/step\n"
     ]
    }
   ],
   "source": [
    "!pip install /kaggle/input/kerasapplications -q\n",
    "!pip install /kaggle/input/efficientnet-keras-source-code/ -q --no-deps\n",
    "\n",
    "import os\n",
    "\n",
    "import efficientnet.tfkeras as efn\n",
    "import numpy as np\n",
    "import pandas as pd\n",
    "import tensorflow as tf\n",
    "import random\n",
    "\n",
    "def auto_select_accelerator():\n",
    "    try:\n",
    "        tpu = tf.distribute.cluster_resolver.TPUClusterResolver()\n",
    "        tf.config.experimental_connect_to_cluster(tpu)\n",
    "        tf.tpu.experimental.initialize_tpu_system(tpu)\n",
    "        strategy = tf.distribute.experimental.TPUStrategy(tpu)\n",
    "        print(\"Running on TPU:\", tpu.master())\n",
    "    except ValueError:\n",
    "        strategy = tf.distribute.get_strategy()\n",
    "    print(f\"Running on {strategy.num_replicas_in_sync} replicas\")\n",
    "\n",
    "    return strategy\n",
    "\n",
    "\n",
    "def build_decoder(with_labels=True, target_size=(300, 300), ext='jpg'):\n",
    "    def decode(path):\n",
    "        file_bytes = tf.io.read_file(path)\n",
    "        if ext == 'png':\n",
    "            img = tf.image.decode_png(file_bytes, channels=3)\n",
    "        elif ext in ['jpg', 'jpeg']:\n",
    "            img = tf.image.decode_jpeg(file_bytes, channels=3)\n",
    "        else:\n",
    "            raise ValueError(\"Image extension not supported\")\n",
    "\n",
    "        img = tf.cast(img, tf.float32) / 355.0\n",
    "        img = tf.image.resize(img, target_size)\n",
    "\n",
    "        return img\n",
    "\n",
    "    def decode_with_labels(path, label):\n",
    "        return decode(path), label\n",
    "\n",
    "    return decode_with_labels if with_labels else decode\n",
    "\n",
    "\n",
    "def build_augmenter(with_labels=True):\n",
    "    def augment(img):\n",
    "        img = tf.image.random_flip_left_right(img)\n",
    "        img = tf.image.random_flip_up_down(img)\n",
    "        \n",
    "        random_number = random.randint(0,2)\n",
    "        if random_number == 1:\n",
    "            img = tf.image.adjust_brightness(img, 1.2)\n",
    "        if random_number == 2:\n",
    "            img = tf.image.adjust_brightness(img, 0.8)\n",
    "        return img\n",
    "\n",
    "    def augment_with_labels(img, label):\n",
    "        return augment(img), label\n",
    "\n",
    "    return augment_with_labels if with_labels else augment\n",
    "\n",
    "\n",
    "def build_dataset(paths, labels=None, bsize=32, cache=True,\n",
    "                  decode_fn=None, augment_fn=None,\n",
    "                  augment=True, repeat=True, shuffle=1024, \n",
    "                  cache_dir=\"\"):\n",
    "    if cache_dir != \"\" and cache is True:\n",
    "        os.makedirs(cache_dir, exist_ok=True)\n",
    "\n",
    "    if decode_fn is None:\n",
    "        decode_fn = build_decoder(labels is not None)\n",
    "\n",
    "    if augment_fn is None:\n",
    "        augment_fn = build_augmenter(labels is not None)\n",
    "\n",
    "    AUTO = tf.data.experimental.AUTOTUNE\n",
    "    slices = paths if labels is None else (paths, labels)\n",
    "\n",
    "    dset = tf.data.Dataset.from_tensor_slices(slices)\n",
    "    dset = dset.map(decode_fn, num_parallel_calls=AUTO)\n",
    "    dset = dset.cache(cache_dir) if cache else dset\n",
    "    dset = dset.map(augment_fn, num_parallel_calls=AUTO) if augment else dset\n",
    "    dset = dset.repeat() if repeat else dset\n",
    "    dset = dset.shuffle(shuffle) if shuffle else dset\n",
    "    dset = dset.batch(bsize).prefetch(AUTO)\n",
    "\n",
    "    return dset\n",
    "\n",
    "#COMPETITION_NAME = \"siim-cov19-test-img512-study-600\"\n",
    "strategy = auto_select_accelerator()\n",
    "BATCH_SIZE = strategy.num_replicas_in_sync * 16\n",
    "\n",
    "IMSIZE = (224, 240, 260, 300, 380, 456, 528, 600, 512)\n",
    "\n",
    "#load_dir = f\"/kaggle/input/{COMPETITION_NAME}/\"\n",
    "if fast_sub:\n",
    "    sub_df = fast_df.copy()\n",
    "else:\n",
    "    sub_df = pd.read_csv('/kaggle/input/siim-covid19-detection/sample_submission.csv')\n",
    "sub_df = sub_df[:study_len]\n",
    "test_paths = f'/kaggle/tmp/{split}/study/' + sub_df['id'] +'.png'\n",
    "\n",
    "sub_df['negative'] = 0\n",
    "sub_df['typical'] = 0\n",
    "sub_df['indeterminate'] = 0\n",
    "sub_df['atypical'] = 0\n",
    "\n",
    "\n",
    "label_cols = sub_df.columns[2:]\n",
    "\n",
    "test_decoder = build_decoder(with_labels=False, target_size=(IMSIZE[7], IMSIZE[7]), ext='png')\n",
    "dtest = build_dataset(\n",
    "    test_paths, bsize=BATCH_SIZE, repeat=False, \n",
    "    shuffle=False, augment=False, cache=False,\n",
    "    decode_fn=test_decoder\n",
    ")\n",
    "\n",
    "with strategy.scope():\n",
    "    \n",
    "    models = []\n",
    "    \n",
    "    models0 = tf.keras.models.load_model(\n",
    "        '../input/siim-covid19-efnb7-train-study/model0.h5'\n",
    "    )\n",
    "    models1 = tf.keras.models.load_model(\n",
    "        '../input/siim-covid19-efnb7-train-study/model1.h5'\n",
    "    )\n",
    "    models2 = tf.keras.models.load_model(\n",
    "        '../input/siim-covid19-efnb7-train-study/model2.h5'\n",
    "    )\n",
    "    models3 = tf.keras.models.load_model(\n",
    "        '../input/siim-covid19-efnb7-train-study/model3.h5'\n",
    "    )\n",
    "    models4 = tf.keras.models.load_model(\n",
    "        '../input/siim-covid19-efnb7-train-study/model4.h5'\n",
    "    )\n",
    "    \n",
    "    models.append(models0)\n",
    "    models.append(models1)\n",
    "    models.append(models2)\n",
    "    models.append(models3)\n",
    "    models.append(models4)\n",
    "    \n",
    "weights = {\n",
    "    0: 1,\n",
    "    1: 1,\n",
    "    2: 1,\n",
    "    3: 1,\n",
    "    4: 3\n",
    "}\n",
    "\n",
    "weights_sum = sum(weights.values())\n",
    "weights = {k: v/weights_sum for k, v in weights.items()}\n",
    "\n",
    "predictions = [model.predict(dtest, verbose=1) for model in models]\n",
    "for i, pred in enumerate(predictions):\n",
    "    predictions[i] = weights[i] * pred\n",
    "    \n",
    "sub_df[label_cols] = sum(predictions) "
   ]
  },
  {
   "cell_type": "code",
   "execution_count": 12,
   "id": "abandoned-acceptance",
   "metadata": {
    "execution": {
     "iopub.execute_input": "2021-07-23T18:17:30.709582Z",
     "iopub.status.busy": "2021-07-23T18:17:30.708923Z",
     "iopub.status.idle": "2021-07-23T18:17:30.712712Z",
     "shell.execute_reply": "2021-07-23T18:17:30.712251Z",
     "shell.execute_reply.started": "2021-07-23T17:54:42.228976Z"
    },
    "papermill": {
     "duration": 0.055465,
     "end_time": "2021-07-23T18:17:30.712810",
     "exception": false,
     "start_time": "2021-07-23T18:17:30.657345",
     "status": "completed"
    },
    "tags": []
   },
   "outputs": [],
   "source": [
    "sub_df.columns = ['id', 'PredictionString1', 'negative', 'typical', 'indeterminate', 'atypical']\n",
    "df = pd.merge(df, sub_df, on = 'id', how = 'left')"
   ]
  },
  {
   "cell_type": "code",
   "execution_count": 13,
   "id": "featured-organization",
   "metadata": {
    "execution": {
     "iopub.execute_input": "2021-07-23T18:17:30.813422Z",
     "iopub.status.busy": "2021-07-23T18:17:30.812796Z",
     "iopub.status.idle": "2021-07-23T18:17:30.817768Z",
     "shell.execute_reply": "2021-07-23T18:17:30.817365Z"
    },
    "papermill": {
     "duration": 0.05823,
     "end_time": "2021-07-23T18:17:30.817870",
     "exception": false,
     "start_time": "2021-07-23T18:17:30.759640",
     "status": "completed"
    },
    "tags": []
   },
   "outputs": [
    {
     "data": {
      "text/html": [
       "<div>\n",
       "<style scoped>\n",
       "    .dataframe tbody tr th:only-of-type {\n",
       "        vertical-align: middle;\n",
       "    }\n",
       "\n",
       "    .dataframe tbody tr th {\n",
       "        vertical-align: top;\n",
       "    }\n",
       "\n",
       "    .dataframe thead th {\n",
       "        text-align: right;\n",
       "    }\n",
       "</style>\n",
       "<table border=\"1\" class=\"dataframe\">\n",
       "  <thead>\n",
       "    <tr style=\"text-align: right;\">\n",
       "      <th></th>\n",
       "      <th>id</th>\n",
       "      <th>PredictionString</th>\n",
       "      <th>id_last_str</th>\n",
       "      <th>PredictionString1</th>\n",
       "      <th>negative</th>\n",
       "      <th>typical</th>\n",
       "      <th>indeterminate</th>\n",
       "      <th>atypical</th>\n",
       "    </tr>\n",
       "  </thead>\n",
       "  <tbody>\n",
       "    <tr>\n",
       "      <th>0</th>\n",
       "      <td>00086460a852_study</td>\n",
       "      <td>negative 1 0 0 1 1</td>\n",
       "      <td>y</td>\n",
       "      <td>negative 1 0 0 1 1</td>\n",
       "      <td>0.076263</td>\n",
       "      <td>0.557065</td>\n",
       "      <td>0.270455</td>\n",
       "      <td>0.096217</td>\n",
       "    </tr>\n",
       "    <tr>\n",
       "      <th>1</th>\n",
       "      <td>000c9c05fd14_study</td>\n",
       "      <td>negative 1 0 0 1 1</td>\n",
       "      <td>y</td>\n",
       "      <td>negative 1 0 0 1 1</td>\n",
       "      <td>0.194360</td>\n",
       "      <td>0.073760</td>\n",
       "      <td>0.134186</td>\n",
       "      <td>0.597694</td>\n",
       "    </tr>\n",
       "    <tr>\n",
       "      <th>2</th>\n",
       "      <td>65761e66de9f_image</td>\n",
       "      <td>none 1 0 0 1 1</td>\n",
       "      <td>e</td>\n",
       "      <td>NaN</td>\n",
       "      <td>NaN</td>\n",
       "      <td>NaN</td>\n",
       "      <td>NaN</td>\n",
       "      <td>NaN</td>\n",
       "    </tr>\n",
       "    <tr>\n",
       "      <th>3</th>\n",
       "      <td>51759b5579bc_image</td>\n",
       "      <td>none 1 0 0 1 1</td>\n",
       "      <td>e</td>\n",
       "      <td>NaN</td>\n",
       "      <td>NaN</td>\n",
       "      <td>NaN</td>\n",
       "      <td>NaN</td>\n",
       "      <td>NaN</td>\n",
       "    </tr>\n",
       "  </tbody>\n",
       "</table>\n",
       "</div>"
      ],
      "text/plain": [
       "                   id    PredictionString id_last_str   PredictionString1  \\\n",
       "0  00086460a852_study  negative 1 0 0 1 1           y  negative 1 0 0 1 1   \n",
       "1  000c9c05fd14_study  negative 1 0 0 1 1           y  negative 1 0 0 1 1   \n",
       "2  65761e66de9f_image      none 1 0 0 1 1           e                 NaN   \n",
       "3  51759b5579bc_image      none 1 0 0 1 1           e                 NaN   \n",
       "\n",
       "   negative   typical  indeterminate  atypical  \n",
       "0  0.076263  0.557065       0.270455  0.096217  \n",
       "1  0.194360  0.073760       0.134186  0.597694  \n",
       "2       NaN       NaN            NaN       NaN  \n",
       "3       NaN       NaN            NaN       NaN  "
      ]
     },
     "execution_count": 13,
     "metadata": {},
     "output_type": "execute_result"
    }
   ],
   "source": [
    "df"
   ]
  },
  {
   "cell_type": "code",
   "execution_count": 14,
   "id": "optional-currency",
   "metadata": {
    "execution": {
     "iopub.execute_input": "2021-07-23T18:17:30.913938Z",
     "iopub.status.busy": "2021-07-23T18:17:30.913212Z",
     "iopub.status.idle": "2021-07-23T18:17:30.915947Z",
     "shell.execute_reply": "2021-07-23T18:17:30.915518Z",
     "shell.execute_reply.started": "2021-07-23T17:54:43.978301Z"
    },
    "papermill": {
     "duration": 0.051684,
     "end_time": "2021-07-23T18:17:30.916049",
     "exception": false,
     "start_time": "2021-07-23T18:17:30.864365",
     "status": "completed"
    },
    "tags": []
   },
   "outputs": [],
   "source": [
    "for i in range(study_len):\n",
    "    negative = df.loc[i,'negative']\n",
    "    typical = df.loc[i,'typical']\n",
    "    indeterminate = df.loc[i,'indeterminate']\n",
    "    atypical = df.loc[i,'atypical']\n",
    "    df.loc[i, 'PredictionString'] = f'negative {negative} 0 0 1 1 typical {typical} 0 0 1 1 indeterminate {indeterminate} 0 0 1 1 atypical {atypical} 0 0 1 1'"
   ]
  },
  {
   "cell_type": "code",
   "execution_count": 15,
   "id": "occupational-topic",
   "metadata": {
    "execution": {
     "iopub.execute_input": "2021-07-23T18:17:31.016614Z",
     "iopub.status.busy": "2021-07-23T18:17:31.015755Z",
     "iopub.status.idle": "2021-07-23T18:17:31.019045Z",
     "shell.execute_reply": "2021-07-23T18:17:31.019443Z"
    },
    "papermill": {
     "duration": 0.058917,
     "end_time": "2021-07-23T18:17:31.019572",
     "exception": false,
     "start_time": "2021-07-23T18:17:30.960655",
     "status": "completed"
    },
    "tags": []
   },
   "outputs": [
    {
     "data": {
      "text/html": [
       "<div>\n",
       "<style scoped>\n",
       "    .dataframe tbody tr th:only-of-type {\n",
       "        vertical-align: middle;\n",
       "    }\n",
       "\n",
       "    .dataframe tbody tr th {\n",
       "        vertical-align: top;\n",
       "    }\n",
       "\n",
       "    .dataframe thead th {\n",
       "        text-align: right;\n",
       "    }\n",
       "</style>\n",
       "<table border=\"1\" class=\"dataframe\">\n",
       "  <thead>\n",
       "    <tr style=\"text-align: right;\">\n",
       "      <th></th>\n",
       "      <th>id</th>\n",
       "      <th>PredictionString</th>\n",
       "      <th>id_last_str</th>\n",
       "      <th>PredictionString1</th>\n",
       "      <th>negative</th>\n",
       "      <th>typical</th>\n",
       "      <th>indeterminate</th>\n",
       "      <th>atypical</th>\n",
       "    </tr>\n",
       "  </thead>\n",
       "  <tbody>\n",
       "    <tr>\n",
       "      <th>0</th>\n",
       "      <td>00086460a852_study</td>\n",
       "      <td>negative 0.07626327127218246 0 0 1 1 typical 0...</td>\n",
       "      <td>y</td>\n",
       "      <td>negative 1 0 0 1 1</td>\n",
       "      <td>0.076263</td>\n",
       "      <td>0.557065</td>\n",
       "      <td>0.270455</td>\n",
       "      <td>0.096217</td>\n",
       "    </tr>\n",
       "    <tr>\n",
       "      <th>1</th>\n",
       "      <td>000c9c05fd14_study</td>\n",
       "      <td>negative 0.19435960054397583 0 0 1 1 typical 0...</td>\n",
       "      <td>y</td>\n",
       "      <td>negative 1 0 0 1 1</td>\n",
       "      <td>0.194360</td>\n",
       "      <td>0.073760</td>\n",
       "      <td>0.134186</td>\n",
       "      <td>0.597694</td>\n",
       "    </tr>\n",
       "    <tr>\n",
       "      <th>2</th>\n",
       "      <td>65761e66de9f_image</td>\n",
       "      <td>none 1 0 0 1 1</td>\n",
       "      <td>e</td>\n",
       "      <td>NaN</td>\n",
       "      <td>NaN</td>\n",
       "      <td>NaN</td>\n",
       "      <td>NaN</td>\n",
       "      <td>NaN</td>\n",
       "    </tr>\n",
       "    <tr>\n",
       "      <th>3</th>\n",
       "      <td>51759b5579bc_image</td>\n",
       "      <td>none 1 0 0 1 1</td>\n",
       "      <td>e</td>\n",
       "      <td>NaN</td>\n",
       "      <td>NaN</td>\n",
       "      <td>NaN</td>\n",
       "      <td>NaN</td>\n",
       "      <td>NaN</td>\n",
       "    </tr>\n",
       "  </tbody>\n",
       "</table>\n",
       "</div>"
      ],
      "text/plain": [
       "                   id                                   PredictionString  \\\n",
       "0  00086460a852_study  negative 0.07626327127218246 0 0 1 1 typical 0...   \n",
       "1  000c9c05fd14_study  negative 0.19435960054397583 0 0 1 1 typical 0...   \n",
       "2  65761e66de9f_image                                     none 1 0 0 1 1   \n",
       "3  51759b5579bc_image                                     none 1 0 0 1 1   \n",
       "\n",
       "  id_last_str   PredictionString1  negative   typical  indeterminate  atypical  \n",
       "0           y  negative 1 0 0 1 1  0.076263  0.557065       0.270455  0.096217  \n",
       "1           y  negative 1 0 0 1 1  0.194360  0.073760       0.134186  0.597694  \n",
       "2           e                 NaN       NaN       NaN            NaN       NaN  \n",
       "3           e                 NaN       NaN       NaN            NaN       NaN  "
      ]
     },
     "execution_count": 15,
     "metadata": {},
     "output_type": "execute_result"
    }
   ],
   "source": [
    "df"
   ]
  },
  {
   "cell_type": "code",
   "execution_count": 16,
   "id": "classified-genius",
   "metadata": {
    "execution": {
     "iopub.execute_input": "2021-07-23T18:17:31.115433Z",
     "iopub.status.busy": "2021-07-23T18:17:31.114560Z",
     "iopub.status.idle": "2021-07-23T18:17:31.116955Z",
     "shell.execute_reply": "2021-07-23T18:17:31.117533Z",
     "shell.execute_reply.started": "2021-07-23T17:54:46.617882Z"
    },
    "papermill": {
     "duration": 0.052183,
     "end_time": "2021-07-23T18:17:31.117673",
     "exception": false,
     "start_time": "2021-07-23T18:17:31.065490",
     "status": "completed"
    },
    "tags": []
   },
   "outputs": [],
   "source": [
    "df_study = df[['id', 'PredictionString']]"
   ]
  },
  {
   "cell_type": "code",
   "execution_count": 17,
   "id": "operational-albert",
   "metadata": {
    "execution": {
     "iopub.execute_input": "2021-07-23T18:17:31.214152Z",
     "iopub.status.busy": "2021-07-23T18:17:31.213293Z",
     "iopub.status.idle": "2021-07-23T18:17:31.217264Z",
     "shell.execute_reply": "2021-07-23T18:17:31.216823Z"
    },
    "papermill": {
     "duration": 0.056738,
     "end_time": "2021-07-23T18:17:31.217391",
     "exception": false,
     "start_time": "2021-07-23T18:17:31.160653",
     "status": "completed"
    },
    "tags": []
   },
   "outputs": [
    {
     "data": {
      "text/html": [
       "<div>\n",
       "<style scoped>\n",
       "    .dataframe tbody tr th:only-of-type {\n",
       "        vertical-align: middle;\n",
       "    }\n",
       "\n",
       "    .dataframe tbody tr th {\n",
       "        vertical-align: top;\n",
       "    }\n",
       "\n",
       "    .dataframe thead th {\n",
       "        text-align: right;\n",
       "    }\n",
       "</style>\n",
       "<table border=\"1\" class=\"dataframe\">\n",
       "  <thead>\n",
       "    <tr style=\"text-align: right;\">\n",
       "      <th></th>\n",
       "      <th>id</th>\n",
       "      <th>PredictionString</th>\n",
       "    </tr>\n",
       "  </thead>\n",
       "  <tbody>\n",
       "    <tr>\n",
       "      <th>0</th>\n",
       "      <td>00086460a852_study</td>\n",
       "      <td>negative 0.07626327127218246 0 0 1 1 typical 0...</td>\n",
       "    </tr>\n",
       "    <tr>\n",
       "      <th>1</th>\n",
       "      <td>000c9c05fd14_study</td>\n",
       "      <td>negative 0.19435960054397583 0 0 1 1 typical 0...</td>\n",
       "    </tr>\n",
       "    <tr>\n",
       "      <th>2</th>\n",
       "      <td>65761e66de9f_image</td>\n",
       "      <td>none 1 0 0 1 1</td>\n",
       "    </tr>\n",
       "    <tr>\n",
       "      <th>3</th>\n",
       "      <td>51759b5579bc_image</td>\n",
       "      <td>none 1 0 0 1 1</td>\n",
       "    </tr>\n",
       "  </tbody>\n",
       "</table>\n",
       "</div>"
      ],
      "text/plain": [
       "                   id                                   PredictionString\n",
       "0  00086460a852_study  negative 0.07626327127218246 0 0 1 1 typical 0...\n",
       "1  000c9c05fd14_study  negative 0.19435960054397583 0 0 1 1 typical 0...\n",
       "2  65761e66de9f_image                                     none 1 0 0 1 1\n",
       "3  51759b5579bc_image                                     none 1 0 0 1 1"
      ]
     },
     "execution_count": 17,
     "metadata": {},
     "output_type": "execute_result"
    }
   ],
   "source": [
    "df_study"
   ]
  },
  {
   "cell_type": "markdown",
   "id": "intelligent-there",
   "metadata": {
    "papermill": {
     "duration": 0.047868,
     "end_time": "2021-07-23T18:17:31.308214",
     "exception": false,
     "start_time": "2021-07-23T18:17:31.260346",
     "status": "completed"
    },
    "tags": []
   },
   "source": [
    "# **2 class**"
   ]
  },
  {
   "cell_type": "code",
   "execution_count": 18,
   "id": "demographic-illness",
   "metadata": {
    "execution": {
     "iopub.execute_input": "2021-07-23T18:17:31.411450Z",
     "iopub.status.busy": "2021-07-23T18:17:31.410617Z",
     "iopub.status.idle": "2021-07-23T18:19:31.685096Z",
     "shell.execute_reply": "2021-07-23T18:19:31.684629Z",
     "shell.execute_reply.started": "2021-07-23T17:54:49.087003Z"
    },
    "papermill": {
     "duration": 120.335054,
     "end_time": "2021-07-23T18:19:31.685269",
     "exception": false,
     "start_time": "2021-07-23T18:17:31.350215",
     "status": "completed"
    },
    "tags": []
   },
   "outputs": [
    {
     "name": "stdout",
     "output_type": "stream",
     "text": [
      "1/1 [==============================] - 5s 5s/step\n",
      "1/1 [==============================] - 4s 4s/step\n",
      "1/1 [==============================] - 4s 4s/step\n",
      "1/1 [==============================] - 5s 5s/step\n",
      "1/1 [==============================] - 4s 4s/step\n"
     ]
    }
   ],
   "source": [
    "if fast_sub:\n",
    "    sub_df = fast_df.copy()\n",
    "else:\n",
    "    sub_df = pd.read_csv('/kaggle/input/siim-covid19-detection/sample_submission.csv')\n",
    "sub_df = sub_df[study_len:]\n",
    "test_paths = f'/kaggle/tmp/{split}/image/' + sub_df['id'] +'.png'\n",
    "sub_df['none'] = 0\n",
    "\n",
    "label_cols = sub_df.columns[2]\n",
    "\n",
    "test_decoder = build_decoder(with_labels=False, target_size=(IMSIZE[8], IMSIZE[8]), ext='png')\n",
    "dtest = build_dataset(\n",
    "    test_paths, bsize=BATCH_SIZE, repeat=False, \n",
    "    shuffle=False, augment=False, cache=False,\n",
    "    decode_fn=test_decoder\n",
    ")\n",
    "\n",
    "with strategy.scope():\n",
    "    \n",
    "    models = []\n",
    "    \n",
    "    models0 = tf.keras.models.load_model(\n",
    "        '/kaggle/input/siim-covid19-efnb7-train-fold0-5-2class/model0.h5'\n",
    "    )\n",
    "    models1 = tf.keras.models.load_model(\n",
    "        '/kaggle/input/siim-covid19-efnb7-train-fold0-5-2class/model1.h5'\n",
    "    )\n",
    "    models2 = tf.keras.models.load_model(\n",
    "        '/kaggle/input/siim-covid19-efnb7-train-fold0-5-2class/model2.h5'\n",
    "    )\n",
    "    models3 = tf.keras.models.load_model(\n",
    "        '/kaggle/input/siim-covid19-efnb7-train-fold0-5-2class/model3.h5'\n",
    "    )\n",
    "    models4 = tf.keras.models.load_model(\n",
    "        '/kaggle/input/siim-covid19-efnb7-train-fold0-5-2class/model4.h5'\n",
    "    )\n",
    "    \n",
    "    models.append(models0)\n",
    "    models.append(models1)\n",
    "    models.append(models2)\n",
    "    models.append(models3)\n",
    "    models.append(models4)\n",
    "\n",
    "weights = {\n",
    "    0: 1,\n",
    "    1: 1,\n",
    "    2: 1,\n",
    "    3: 1,\n",
    "    4: 3\n",
    "}\n",
    "\n",
    "weights_sum = sum(weights.values())\n",
    "weights = {k: v/weights_sum for k, v in weights.items()}\n",
    "\n",
    "predictions = [model.predict(dtest, verbose=1) for model in models]\n",
    "for i, pred in enumerate(predictions):\n",
    "    predictions[i] = weights[i] * pred\n",
    "    \n",
    "sub_df[label_cols] = sum(predictions)\n",
    "#sub_df[label_cols] = sum([model.predict(dtest, verbose=1) for model in models]) / len(models)\n",
    "df_2class = sub_df.reset_index(drop=True)"
   ]
  },
  {
   "cell_type": "code",
   "execution_count": 19,
   "id": "engaging-posting",
   "metadata": {
    "execution": {
     "iopub.execute_input": "2021-07-23T18:19:31.778316Z",
     "iopub.status.busy": "2021-07-23T18:19:31.777769Z",
     "iopub.status.idle": "2021-07-23T18:19:31.781686Z",
     "shell.execute_reply": "2021-07-23T18:19:31.781286Z",
     "shell.execute_reply.started": "2021-07-23T17:56:51.457156Z"
    },
    "papermill": {
     "duration": 0.051557,
     "end_time": "2021-07-23T18:19:31.781795",
     "exception": false,
     "start_time": "2021-07-23T18:19:31.730238",
     "status": "completed"
    },
    "tags": []
   },
   "outputs": [],
   "source": [
    "del models\n",
    "del models0, models1, models2, models3, models4"
   ]
  },
  {
   "cell_type": "code",
   "execution_count": 20,
   "id": "radical-smoke",
   "metadata": {
    "execution": {
     "iopub.execute_input": "2021-07-23T18:19:31.874633Z",
     "iopub.status.busy": "2021-07-23T18:19:31.874077Z",
     "iopub.status.idle": "2021-07-23T18:19:34.188501Z",
     "shell.execute_reply": "2021-07-23T18:19:34.188907Z",
     "shell.execute_reply.started": "2021-07-23T17:56:51.467947Z"
    },
    "papermill": {
     "duration": 2.362383,
     "end_time": "2021-07-23T18:19:34.189065",
     "exception": false,
     "start_time": "2021-07-23T18:19:31.826682",
     "status": "completed"
    },
    "tags": []
   },
   "outputs": [
    {
     "data": {
      "text/plain": [
       "<weakproxy at 0x7f8fd813e290 to Device at 0x7f943832efd0>"
      ]
     },
     "execution_count": 20,
     "metadata": {},
     "output_type": "execute_result"
    }
   ],
   "source": [
    "from numba import cuda\n",
    "import torch\n",
    "cuda.select_device(0)\n",
    "cuda.close()\n",
    "cuda.select_device(0)"
   ]
  },
  {
   "cell_type": "markdown",
   "id": "industrial-demonstration",
   "metadata": {
    "papermill": {
     "duration": 0.04665,
     "end_time": "2021-07-23T18:19:34.281714",
     "exception": false,
     "start_time": "2021-07-23T18:19:34.235064",
     "status": "completed"
    },
    "tags": []
   },
   "source": [
    "# **Yolo v5 predict**"
   ]
  },
  {
   "cell_type": "code",
   "execution_count": 21,
   "id": "crucial-vessel",
   "metadata": {
    "execution": {
     "iopub.execute_input": "2021-07-23T18:19:34.376268Z",
     "iopub.status.busy": "2021-07-23T18:19:34.375635Z",
     "iopub.status.idle": "2021-07-23T18:19:34.569831Z",
     "shell.execute_reply": "2021-07-23T18:19:34.569189Z",
     "shell.execute_reply.started": "2021-07-23T17:56:53.974013Z"
    },
    "papermill": {
     "duration": 0.243861,
     "end_time": "2021-07-23T18:19:34.569961",
     "exception": false,
     "start_time": "2021-07-23T18:19:34.326100",
     "status": "completed"
    },
    "tags": []
   },
   "outputs": [],
   "source": [
    "import numpy as np, pandas as pd\n",
    "from glob import glob\n",
    "import shutil, os\n",
    "import matplotlib.pyplot as plt\n",
    "from sklearn.model_selection import GroupKFold\n",
    "from tqdm.notebook import tqdm\n",
    "import seaborn as sns\n",
    "import torch"
   ]
  },
  {
   "cell_type": "code",
   "execution_count": 22,
   "id": "regulation-meaning",
   "metadata": {
    "execution": {
     "iopub.execute_input": "2021-07-23T18:19:34.671261Z",
     "iopub.status.busy": "2021-07-23T18:19:34.670592Z",
     "iopub.status.idle": "2021-07-23T18:19:34.673410Z",
     "shell.execute_reply": "2021-07-23T18:19:34.672986Z",
     "shell.execute_reply.started": "2021-07-23T17:56:54.183082Z"
    },
    "papermill": {
     "duration": 0.058074,
     "end_time": "2021-07-23T18:19:34.673549",
     "exception": false,
     "start_time": "2021-07-23T18:19:34.615475",
     "status": "completed"
    },
    "tags": []
   },
   "outputs": [],
   "source": [
    "\n",
    "    \n",
    "meta = meta[meta['split'] == 'test']\n",
    "if fast_sub:\n",
    "    test_df = fast_df.copy()\n",
    "else:\n",
    "    test_df = pd.read_csv('/kaggle/input/siim-covid19-detection/sample_submission.csv')\n",
    "test_df = df[study_len:].reset_index(drop=True) \n",
    "meta['image_id'] = meta['image_id'] + '_image'\n",
    "meta.columns = ['id', 'dim0', 'dim1', 'split']\n",
    "test_df = pd.merge(test_df, meta, on = 'id', how = 'left')\n"
   ]
  },
  {
   "cell_type": "code",
   "execution_count": null,
   "id": "solid-postcard",
   "metadata": {
    "papermill": {
     "duration": 0.043879,
     "end_time": "2021-07-23T18:19:34.761705",
     "exception": false,
     "start_time": "2021-07-23T18:19:34.717826",
     "status": "completed"
    },
    "tags": []
   },
   "outputs": [],
   "source": []
  },
  {
   "cell_type": "code",
   "execution_count": 23,
   "id": "tracked-beatles",
   "metadata": {
    "execution": {
     "iopub.execute_input": "2021-07-23T18:19:34.876848Z",
     "iopub.status.busy": "2021-07-23T18:19:34.876290Z",
     "iopub.status.idle": "2021-07-23T18:20:09.041820Z",
     "shell.execute_reply": "2021-07-23T18:20:09.043250Z",
     "shell.execute_reply.started": "2021-07-23T18:00:10.050559Z"
    },
    "papermill": {
     "duration": 34.237598,
     "end_time": "2021-07-23T18:20:09.043444",
     "exception": false,
     "start_time": "2021-07-23T18:19:34.805846",
     "status": "completed"
    },
    "tags": []
   },
   "outputs": [
    {
     "name": "stdout",
     "output_type": "stream",
     "text": [
      "fatal: unable to access 'https://github.com/ultralytics/yolov5/': Could not resolve host: github.com\r\n",
      "Namespace(agnostic_nms=False, augment=True, classes=None, conf_thres=0.001, device='', exist_ok=True, img_size=512, iou_thres=0.5, name='exp', project='runs/detect', save_conf=True, save_txt=True, source='/kaggle/tmp/test/image', update=False, view_img=False, weights=['/kaggle/input/weights-of-yolov5-150-epochs/best.pt'])\r\n",
      "Fusing layers... \r\n",
      "image 1/2 /kaggle/tmp/test/image/51759b5579bc_image.png: 512x512 49 0. opacitys, Done. (0.169s)\r\n",
      "image 2/2 /kaggle/tmp/test/image/65761e66de9f_image.png: 512x512 42 0. opacitys, Done. (0.140s)\r\n",
      "Results saved to runs/detect/exp\r\n",
      "2 labels saved to runs/detect/exp/labels\r\n",
      "Done. (0.578s)\r\n"
     ]
    },
    {
     "data": {
      "application/vnd.jupyter.widget-view+json": {
       "model_id": "7973366632ea4cc4bcf84a1bae94be64",
       "version_major": 2,
       "version_minor": 0
      },
      "text/plain": [
       "  0%|          | 0/2 [00:00<?, ?it/s]"
      ]
     },
     "metadata": {},
     "output_type": "display_data"
    }
   ],
   "source": [
    "dim = 512 #1024, 256, 'original'\n",
    "test_dir = f'/kaggle/tmp/{split}/image'\n",
    "#weights_dir = '/kaggle/input/siim-cov19-yolov5-train/yolov5/runs/train/exp/weights/best.pt'\n",
    "weights_dir = '/kaggle/input/weights-of-yolov5-150-epochs/best.pt'\n",
    "\n",
    "shutil.copytree('/kaggle/input/yolov5-official-v31-dataset/yolov5', '/kaggle/working/yolov5')\n",
    "os.chdir('/kaggle/working/yolov5') # install dependencies\n",
    "!git pull\n",
    "\n",
    "import torch\n",
    "#from IPython.display import Image, clear_output  # to display images\n",
    "\n",
    "#clear_output()\n",
    "#print('Setup complete. Using torch %s %s' % (torch.__version__, torch.cuda.get_device_properties(0) if torch.cuda.is_available() else 'CPU'))\n",
    "\n",
    "\n",
    "!python detect.py --weights $weights_dir\\\n",
    "--img 512\\\n",
    "--conf 0.001\\\n",
    "--iou 0.5\\\n",
    "--augment\\\n",
    "--source $test_dir\\\n",
    "--save-txt --save-conf --exist-ok\n",
    "def yolo2voc(image_height, image_width, bboxes):\n",
    "    \"\"\"\n",
    "    yolo => [xmid, ymid, w, h] (normalized)\n",
    "    voc  => [x1, y1, x2, y1]\n",
    "\n",
    "    \"\"\" \n",
    "    bboxes = bboxes.copy().astype(float) # otherwise all value will be 0 as voc_pascal dtype is np.int\n",
    "\n",
    "    bboxes[..., [0, 2]] = bboxes[..., [0, 2]]* image_width\n",
    "    bboxes[..., [1, 3]] = bboxes[..., [1, 3]]* image_height\n",
    "\n",
    "    bboxes[..., [0, 1]] = bboxes[..., [0, 1]] - bboxes[..., [2, 3]]/2\n",
    "    bboxes[..., [2, 3]] = bboxes[..., [0, 1]] + bboxes[..., [2, 3]]\n",
    "\n",
    "    return bboxes\n",
    "image_ids = []\n",
    "PredictionStrings = []\n",
    "\n",
    "for file_path in tqdm(glob('runs/detect/exp/labels/*.txt')):\n",
    "    image_id = file_path.split('/')[-1].split('.')[0]\n",
    "    w, h = test_df.loc[test_df.id==image_id,['dim1', 'dim0']].values[0]\n",
    "    f = open(file_path, 'r')\n",
    "    data = np.array(f.read().replace('\\n', ' ').strip().split(' ')).astype(np.float32).reshape(-1, 6)\n",
    "    data = data[:, [0, 5, 1, 2, 3, 4]]\n",
    "    bboxes = list(np.round(np.concatenate((data[:, :2], np.round(yolo2voc(h, w, data[:, 2:]))), axis =1).reshape(-1), 12).astype(str))\n",
    "    for idx in range(len(bboxes)):\n",
    "        bboxes[idx] = str(int(float(bboxes[idx]))) if idx%6!=1 else bboxes[idx]\n",
    "    image_ids.append(image_id)\n",
    "    PredictionStrings.append(' '.join(bboxes))\n",
    "\n",
    "\n",
    "pred_df = pd.DataFrame({'id':image_ids,\n",
    "                        'PredictionString':PredictionStrings})"
   ]
  },
  {
   "cell_type": "code",
   "execution_count": 24,
   "id": "uniform-drilling",
   "metadata": {
    "execution": {
     "iopub.execute_input": "2021-07-23T18:20:09.155938Z",
     "iopub.status.busy": "2021-07-23T18:20:09.155025Z",
     "iopub.status.idle": "2021-07-23T18:20:09.159233Z",
     "shell.execute_reply": "2021-07-23T18:20:09.158732Z"
    },
    "papermill": {
     "duration": 0.061839,
     "end_time": "2021-07-23T18:20:09.159367",
     "exception": false,
     "start_time": "2021-07-23T18:20:09.097528",
     "status": "completed"
    },
    "tags": []
   },
   "outputs": [
    {
     "data": {
      "text/html": [
       "<div>\n",
       "<style scoped>\n",
       "    .dataframe tbody tr th:only-of-type {\n",
       "        vertical-align: middle;\n",
       "    }\n",
       "\n",
       "    .dataframe tbody tr th {\n",
       "        vertical-align: top;\n",
       "    }\n",
       "\n",
       "    .dataframe thead th {\n",
       "        text-align: right;\n",
       "    }\n",
       "</style>\n",
       "<table border=\"1\" class=\"dataframe\">\n",
       "  <thead>\n",
       "    <tr style=\"text-align: right;\">\n",
       "      <th></th>\n",
       "      <th>id</th>\n",
       "      <th>PredictionString</th>\n",
       "    </tr>\n",
       "  </thead>\n",
       "  <tbody>\n",
       "    <tr>\n",
       "      <th>0</th>\n",
       "      <td>65761e66de9f_image</td>\n",
       "      <td>0 0.00102328998 875 187 1386 915 0 0.001114850...</td>\n",
       "    </tr>\n",
       "    <tr>\n",
       "      <th>1</th>\n",
       "      <td>51759b5579bc_image</td>\n",
       "      <td>0 0.001021389966 2149 713 2588 1752 0 0.001039...</td>\n",
       "    </tr>\n",
       "  </tbody>\n",
       "</table>\n",
       "</div>"
      ],
      "text/plain": [
       "                   id                                   PredictionString\n",
       "0  65761e66de9f_image  0 0.00102328998 875 187 1386 915 0 0.001114850...\n",
       "1  51759b5579bc_image  0 0.001021389966 2149 713 2588 1752 0 0.001039..."
      ]
     },
     "execution_count": 24,
     "metadata": {},
     "output_type": "execute_result"
    }
   ],
   "source": [
    "pred_df"
   ]
  },
  {
   "cell_type": "code",
   "execution_count": 25,
   "id": "standing-novel",
   "metadata": {
    "execution": {
     "iopub.execute_input": "2021-07-23T18:20:09.337276Z",
     "iopub.status.busy": "2021-07-23T18:20:09.336518Z",
     "iopub.status.idle": "2021-07-23T18:20:09.613335Z",
     "shell.execute_reply": "2021-07-23T18:20:09.612558Z",
     "shell.execute_reply.started": "2021-07-23T18:00:58.848105Z"
    },
    "papermill": {
     "duration": 0.382885,
     "end_time": "2021-07-23T18:20:09.613519",
     "exception": false,
     "start_time": "2021-07-23T18:20:09.230634",
     "status": "completed"
    },
    "tags": []
   },
   "outputs": [],
   "source": [
    "test_df = test_df.drop(['PredictionString'], axis=1)\n",
    "sub_df = pd.merge(test_df, pred_df, on = 'id', how = 'left').fillna(\"none 1 0 0 1 1\")\n",
    "sub_df = sub_df[['id', 'PredictionString']]\n",
    "for i in range(sub_df.shape[0]):\n",
    "    if sub_df.loc[i,'PredictionString'] == \"none 1 0 0 1 1\":\n",
    "        continue\n",
    "    sub_df_split = sub_df.loc[i,'PredictionString'].split()\n",
    "    sub_df_list = []\n",
    "    for j in range(int(len(sub_df_split) / 6)):\n",
    "        sub_df_list.append('opacity')\n",
    "        sub_df_list.append(sub_df_split[6 * j + 1])\n",
    "        sub_df_list.append(sub_df_split[6 * j + 2])\n",
    "        sub_df_list.append(sub_df_split[6 * j + 3])\n",
    "        sub_df_list.append(sub_df_split[6 * j + 4])\n",
    "        sub_df_list.append(sub_df_split[6 * j + 5])\n",
    "    sub_df.loc[i,'PredictionString'] = ' '.join(sub_df_list)\n",
    "sub_df['none'] = df_2class['none'] \n",
    "for i in range(sub_df.shape[0]):\n",
    "    if sub_df.loc[i,'PredictionString'] != 'none 1 0 0 1 1':\n",
    "        sub_df.loc[i,'PredictionString'] = sub_df.loc[i,'PredictionString'] + ' none ' + str(sub_df.loc[i,'none']) + ' 0 0 1 1'\n",
    "sub_df = sub_df[['id', 'PredictionString']]   \n",
    "df_study = df_study[:study_len]\n",
    "df_study = df_study.append(sub_df).reset_index(drop=True)\n",
    "df_study.to_csv('/kaggle/working/submission.csv',index = False)  \n",
    "shutil.rmtree('/kaggle/working/yolov5')"
   ]
  }
 ],
 "metadata": {
  "kernelspec": {
   "display_name": "Python 3",
   "language": "python",
   "name": "python3"
  },
  "language_info": {
   "codemirror_mode": {
    "name": "ipython",
    "version": 3
   },
   "file_extension": ".py",
   "mimetype": "text/x-python",
   "name": "python",
   "nbconvert_exporter": "python",
   "pygments_lexer": "ipython3",
   "version": "3.7.10"
  },
  "papermill": {
   "default_parameters": {},
   "duration": 419.823623,
   "end_time": "2021-07-23T18:20:12.592280",
   "environment_variables": {},
   "exception": null,
   "input_path": "__notebook__.ipynb",
   "output_path": "__notebook__.ipynb",
   "parameters": {},
   "start_time": "2021-07-23T18:13:12.768657",
   "version": "2.3.3"
  },
  "widgets": {
   "application/vnd.jupyter.widget-state+json": {
    "state": {
     "0093e413f53d470c8fdf4c0bdce70699": {
      "model_module": "@jupyter-widgets/base",
      "model_module_version": "1.2.0",
      "model_name": "LayoutModel",
      "state": {
       "_model_module": "@jupyter-widgets/base",
       "_model_module_version": "1.2.0",
       "_model_name": "LayoutModel",
       "_view_count": null,
       "_view_module": "@jupyter-widgets/base",
       "_view_module_version": "1.2.0",
       "_view_name": "LayoutView",
       "align_content": null,
       "align_items": null,
       "align_self": null,
       "border": null,
       "bottom": null,
       "display": null,
       "flex": null,
       "flex_flow": null,
       "grid_area": null,
       "grid_auto_columns": null,
       "grid_auto_flow": null,
       "grid_auto_rows": null,
       "grid_column": null,
       "grid_gap": null,
       "grid_row": null,
       "grid_template_areas": null,
       "grid_template_columns": null,
       "grid_template_rows": null,
       "height": null,
       "justify_content": null,
       "justify_items": null,
       "left": null,
       "margin": null,
       "max_height": null,
       "max_width": null,
       "min_height": null,
       "min_width": null,
       "object_fit": null,
       "object_position": null,
       "order": null,
       "overflow": null,
       "overflow_x": null,
       "overflow_y": null,
       "padding": null,
       "right": null,
       "top": null,
       "visibility": null,
       "width": null
      }
     },
     "074025c9b2124b51bef6da424f1a4283": {
      "model_module": "@jupyter-widgets/controls",
      "model_module_version": "1.5.0",
      "model_name": "HTMLModel",
      "state": {
       "_dom_classes": [],
       "_model_module": "@jupyter-widgets/controls",
       "_model_module_version": "1.5.0",
       "_model_name": "HTMLModel",
       "_view_count": null,
       "_view_module": "@jupyter-widgets/controls",
       "_view_module_version": "1.5.0",
       "_view_name": "HTMLView",
       "description": "",
       "description_tooltip": null,
       "layout": "IPY_MODEL_0093e413f53d470c8fdf4c0bdce70699",
       "placeholder": "​",
       "style": "IPY_MODEL_af9175bdfa81406ab918af4f16d966c1",
       "value": "100%"
      }
     },
     "3c86c0f15eb34f4dbc78afef897f845a": {
      "model_module": "@jupyter-widgets/base",
      "model_module_version": "1.2.0",
      "model_name": "LayoutModel",
      "state": {
       "_model_module": "@jupyter-widgets/base",
       "_model_module_version": "1.2.0",
       "_model_name": "LayoutModel",
       "_view_count": null,
       "_view_module": "@jupyter-widgets/base",
       "_view_module_version": "1.2.0",
       "_view_name": "LayoutView",
       "align_content": null,
       "align_items": null,
       "align_self": null,
       "border": null,
       "bottom": null,
       "display": null,
       "flex": null,
       "flex_flow": null,
       "grid_area": null,
       "grid_auto_columns": null,
       "grid_auto_flow": null,
       "grid_auto_rows": null,
       "grid_column": null,
       "grid_gap": null,
       "grid_row": null,
       "grid_template_areas": null,
       "grid_template_columns": null,
       "grid_template_rows": null,
       "height": null,
       "justify_content": null,
       "justify_items": null,
       "left": null,
       "margin": null,
       "max_height": null,
       "max_width": null,
       "min_height": null,
       "min_width": null,
       "object_fit": null,
       "object_position": null,
       "order": null,
       "overflow": null,
       "overflow_x": null,
       "overflow_y": null,
       "padding": null,
       "right": null,
       "top": null,
       "visibility": null,
       "width": null
      }
     },
     "40ab18423cbf44549c3c8e988fb03f86": {
      "model_module": "@jupyter-widgets/controls",
      "model_module_version": "1.5.0",
      "model_name": "DescriptionStyleModel",
      "state": {
       "_model_module": "@jupyter-widgets/controls",
       "_model_module_version": "1.5.0",
       "_model_name": "DescriptionStyleModel",
       "_view_count": null,
       "_view_module": "@jupyter-widgets/base",
       "_view_module_version": "1.2.0",
       "_view_name": "StyleView",
       "description_width": ""
      }
     },
     "68c04509b6f643fc9fe950e0d7751b76": {
      "model_module": "@jupyter-widgets/base",
      "model_module_version": "1.2.0",
      "model_name": "LayoutModel",
      "state": {
       "_model_module": "@jupyter-widgets/base",
       "_model_module_version": "1.2.0",
       "_model_name": "LayoutModel",
       "_view_count": null,
       "_view_module": "@jupyter-widgets/base",
       "_view_module_version": "1.2.0",
       "_view_name": "LayoutView",
       "align_content": null,
       "align_items": null,
       "align_self": null,
       "border": null,
       "bottom": null,
       "display": null,
       "flex": null,
       "flex_flow": null,
       "grid_area": null,
       "grid_auto_columns": null,
       "grid_auto_flow": null,
       "grid_auto_rows": null,
       "grid_column": null,
       "grid_gap": null,
       "grid_row": null,
       "grid_template_areas": null,
       "grid_template_columns": null,
       "grid_template_rows": null,
       "height": null,
       "justify_content": null,
       "justify_items": null,
       "left": null,
       "margin": null,
       "max_height": null,
       "max_width": null,
       "min_height": null,
       "min_width": null,
       "object_fit": null,
       "object_position": null,
       "order": null,
       "overflow": null,
       "overflow_x": null,
       "overflow_y": null,
       "padding": null,
       "right": null,
       "top": null,
       "visibility": null,
       "width": null
      }
     },
     "69cb558518fd4d40896cf1e5796f8d34": {
      "model_module": "@jupyter-widgets/controls",
      "model_module_version": "1.5.0",
      "model_name": "FloatProgressModel",
      "state": {
       "_dom_classes": [],
       "_model_module": "@jupyter-widgets/controls",
       "_model_module_version": "1.5.0",
       "_model_name": "FloatProgressModel",
       "_view_count": null,
       "_view_module": "@jupyter-widgets/controls",
       "_view_module_version": "1.5.0",
       "_view_name": "ProgressView",
       "bar_style": "success",
       "description": "",
       "description_tooltip": null,
       "layout": "IPY_MODEL_ff69e3b79eb64986b94a36b16e260564",
       "max": 2.0,
       "min": 0.0,
       "orientation": "horizontal",
       "style": "IPY_MODEL_edafd09ae2cc4880ba62fb4636938d93",
       "value": 2.0
      }
     },
     "7973366632ea4cc4bcf84a1bae94be64": {
      "model_module": "@jupyter-widgets/controls",
      "model_module_version": "1.5.0",
      "model_name": "HBoxModel",
      "state": {
       "_dom_classes": [],
       "_model_module": "@jupyter-widgets/controls",
       "_model_module_version": "1.5.0",
       "_model_name": "HBoxModel",
       "_view_count": null,
       "_view_module": "@jupyter-widgets/controls",
       "_view_module_version": "1.5.0",
       "_view_name": "HBoxView",
       "box_style": "",
       "children": [
        "IPY_MODEL_074025c9b2124b51bef6da424f1a4283",
        "IPY_MODEL_69cb558518fd4d40896cf1e5796f8d34",
        "IPY_MODEL_90da20ca661b4432aa7531f18ad26bd4"
       ],
       "layout": "IPY_MODEL_3c86c0f15eb34f4dbc78afef897f845a"
      }
     },
     "90da20ca661b4432aa7531f18ad26bd4": {
      "model_module": "@jupyter-widgets/controls",
      "model_module_version": "1.5.0",
      "model_name": "HTMLModel",
      "state": {
       "_dom_classes": [],
       "_model_module": "@jupyter-widgets/controls",
       "_model_module_version": "1.5.0",
       "_model_name": "HTMLModel",
       "_view_count": null,
       "_view_module": "@jupyter-widgets/controls",
       "_view_module_version": "1.5.0",
       "_view_name": "HTMLView",
       "description": "",
       "description_tooltip": null,
       "layout": "IPY_MODEL_68c04509b6f643fc9fe950e0d7751b76",
       "placeholder": "​",
       "style": "IPY_MODEL_40ab18423cbf44549c3c8e988fb03f86",
       "value": " 2/2 [00:00&lt;00:00, 53.96it/s]"
      }
     },
     "af9175bdfa81406ab918af4f16d966c1": {
      "model_module": "@jupyter-widgets/controls",
      "model_module_version": "1.5.0",
      "model_name": "DescriptionStyleModel",
      "state": {
       "_model_module": "@jupyter-widgets/controls",
       "_model_module_version": "1.5.0",
       "_model_name": "DescriptionStyleModel",
       "_view_count": null,
       "_view_module": "@jupyter-widgets/base",
       "_view_module_version": "1.2.0",
       "_view_name": "StyleView",
       "description_width": ""
      }
     },
     "edafd09ae2cc4880ba62fb4636938d93": {
      "model_module": "@jupyter-widgets/controls",
      "model_module_version": "1.5.0",
      "model_name": "ProgressStyleModel",
      "state": {
       "_model_module": "@jupyter-widgets/controls",
       "_model_module_version": "1.5.0",
       "_model_name": "ProgressStyleModel",
       "_view_count": null,
       "_view_module": "@jupyter-widgets/base",
       "_view_module_version": "1.2.0",
       "_view_name": "StyleView",
       "bar_color": null,
       "description_width": ""
      }
     },
     "ff69e3b79eb64986b94a36b16e260564": {
      "model_module": "@jupyter-widgets/base",
      "model_module_version": "1.2.0",
      "model_name": "LayoutModel",
      "state": {
       "_model_module": "@jupyter-widgets/base",
       "_model_module_version": "1.2.0",
       "_model_name": "LayoutModel",
       "_view_count": null,
       "_view_module": "@jupyter-widgets/base",
       "_view_module_version": "1.2.0",
       "_view_name": "LayoutView",
       "align_content": null,
       "align_items": null,
       "align_self": null,
       "border": null,
       "bottom": null,
       "display": null,
       "flex": null,
       "flex_flow": null,
       "grid_area": null,
       "grid_auto_columns": null,
       "grid_auto_flow": null,
       "grid_auto_rows": null,
       "grid_column": null,
       "grid_gap": null,
       "grid_row": null,
       "grid_template_areas": null,
       "grid_template_columns": null,
       "grid_template_rows": null,
       "height": null,
       "justify_content": null,
       "justify_items": null,
       "left": null,
       "margin": null,
       "max_height": null,
       "max_width": null,
       "min_height": null,
       "min_width": null,
       "object_fit": null,
       "object_position": null,
       "order": null,
       "overflow": null,
       "overflow_x": null,
       "overflow_y": null,
       "padding": null,
       "right": null,
       "top": null,
       "visibility": null,
       "width": null
      }
     }
    },
    "version_major": 2,
    "version_minor": 0
   }
  }
 },
 "nbformat": 4,
 "nbformat_minor": 5
}
